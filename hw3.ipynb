{
 "cells": [
  {
   "cell_type": "code",
   "execution_count": 1,
   "metadata": {},
   "outputs": [],
   "source": [
    "import matplotlib.pyplot as plt\n",
    "import numpy as np\n",
    "from sklearn import datasets\n",
    "from matplotlib.colors import ListedColormap\n",
    "\n",
    "%matplotlib inline"
   ]
  },
  {
   "cell_type": "code",
   "execution_count": 2,
   "metadata": {},
   "outputs": [
    {
     "name": "stdout",
     "output_type": "stream",
     "text": [
      "Train features -  (280, 50)\n",
      "Test features -  (120, 50)\n",
      "Train responses (280,)\n",
      "Test responses (120,)\n"
     ]
    }
   ],
   "source": [
    "# data preparation\n",
    "\"\"\"make_classification(n_samples=100, n_features=20, *, n_informative=2, n_redundant=2, n_repeated=0, \n",
    "n_classes=2, n_clusters_per_class=2, weights=None, flip_y=0.01, class_sep=1.0, hypercube=True, shift=0.0, \n",
    "scale=1.0, shuffle=True, random_state=None)\"\"\"\n",
    "classes_data = datasets.make_classification(n_samples=400, n_features=50, n_informative=12, n_redundant=10, \n",
    "                                       n_classes=2, random_state=1, shuffle=True)\n",
    "colors = ListedColormap(['red', 'blue'])\n",
    "#plt.figure(figsize=(8, 8))\n",
    "#plt.scatter([x[0] for x in classes_data[0]], [x[1] for x in classes_data[0]], c=classes_data[1], cmap=colors)\n",
    "X, y = classes_data[0], classes_data[1]\n",
    "\n",
    "# train & test subdivision\n",
    "train_proportion = 0.7\n",
    "train_test_cut = int(len(classes_data[0]) * train_proportion)\n",
    "X_train, X_test, y_train, y_test = \\\n",
    "    X[:train_test_cut], \\\n",
    "    X[train_test_cut:], \\\n",
    "    y[:train_test_cut], \\\n",
    "    y[train_test_cut:]\n",
    "print(\"Train features - \", X_train.shape)\n",
    "print(\"Test features - \", X_test.shape)\n",
    "print(\"Train responses\", y_train.shape)\n",
    "print(\"Test responses\", y_test.shape)"
   ]
  },
  {
   "cell_type": "code",
   "execution_count": 3,
   "metadata": {},
   "outputs": [],
   "source": [
    "X_train = X_train.transpose()\n",
    "y_train = y_train.reshape(1, y_train.shape[0])\n",
    "X_test = X_test.transpose()\n",
    "y_test = y_test.reshape(1, y_test.shape[0])"
   ]
  },
  {
   "cell_type": "code",
   "execution_count": 4,
   "metadata": {},
   "outputs": [
    {
     "name": "stdout",
     "output_type": "stream",
     "text": [
      "Train features -  (50, 280)\n",
      "Test features -  (50, 120)\n",
      "Train responses (1, 280)\n",
      "Test responses (1, 120)\n"
     ]
    }
   ],
   "source": [
    "print(\"Train features - \", X_train.shape)\n",
    "print(\"Test features - \", X_test.shape)\n",
    "print(\"Train responses\", y_train.shape)\n",
    "print(\"Test responses\", y_test.shape)"
   ]
  },
  {
   "cell_type": "code",
   "execution_count": 5,
   "metadata": {},
   "outputs": [],
   "source": [
    "# initial weights\n",
    "w0 = np.zeros((X_train.shape[0], 1))"
   ]
  },
  {
   "cell_type": "markdown",
   "metadata": {},
   "source": [
    "## Урок 3. Логистическая регрессия. Log Loss\n",
    "1. Измените функцию calc_logloss так, чтобы нули по возможности не попадали в np.log.* \n",
    "2. Подберите аргументы функции eval_model для логистической регрессии таким образом, чтобы log loss был минимальным.\n",
    "3. Создайте функцию calc_pred_proba, возвращающую предсказанную вероятность класса 1 (на вход подаются W, который уже посчитан функцией eval_model и X, на выходе - массив y_pred_proba).\n",
    "4. Создайте функцию calc_pred, возвращающую предсказанный класс (на вход подаются W, который уже посчитан функцией eval_model и X, на выходе - массив y_pred).\n",
    "5. Посчитайте Accuracy, матрицу ошибок, точность и полноту, а также F1 score.\n",
    "6. Могла ли модель переобучиться? Почему?\n",
    "7. Создайте функции eval_model_l1 и eval_model_l2 с применением L1 и L2 регуляризаций соответственно.* "
   ]
  },
  {
   "cell_type": "code",
   "execution_count": 6,
   "metadata": {},
   "outputs": [],
   "source": [
    "def sigmoid(x):\n",
    "    return 1 / (1 + np.exp(-x))"
   ]
  },
  {
   "cell_type": "markdown",
   "metadata": {},
   "source": [
    "### 1. Измените функцию calc_logloss так, чтобы нули по возможности не попадали в np.log."
   ]
  },
  {
   "cell_type": "markdown",
   "metadata": {},
   "source": [
    "Good article about optimiztion of logloss:\n",
    "https://habr.com/ru/post/485872/"
   ]
  },
  {
   "cell_type": "code",
   "execution_count": 7,
   "metadata": {},
   "outputs": [],
   "source": [
    "def calc_logloss(w, X, y):    \n",
    "    X_size = X.shape[1]\n",
    "    prob = sigmoid(np.dot(w.T, X)) # class 1 probability\n",
    "    #loss = -1.0 / X_size * np.sum(y * np.log(prob) + (1 - y) * np.log(1 - prob)) # classes 0 and 1\n",
    "    loss = 1.0 / X_size * np.sum(np.log(1 + np.exp(-y * np.dot(w.T, X)))) # classes -1 and 1\n",
    "    #grad = 1.0 / X_size * np.dot(X, (np.dot(w.T, X) - y).T) # classes 0 and 1\n",
    "    grad = 1.0 / X_size * np.dot(X, (prob - y).T) # classes -1 and 1\n",
    "    return loss, grad"
   ]
  },
  {
   "cell_type": "markdown",
   "metadata": {},
   "source": [
    "### 2. Подберите аргументы функции eval_model для логистической регрессии таким образом, чтобы log loss был минимальным."
   ]
  },
  {
   "cell_type": "markdown",
   "metadata": {},
   "source": [
    "article:\n",
    "    https://dyakonov.org/2018/03/12/%D0%BB%D0%BE%D0%B3%D0%B8%D1%81%D1%82%D0%B8%D1%87%D0%B5%D1%81%D0%BA%D0%B0%D1%8F-%D1%84%D1%83%D0%BD%D0%BA%D1%86%D0%B8%D1%8F-%D0%BE%D1%88%D0%B8%D0%B1%D0%BA%D0%B8/"
   ]
  },
  {
   "cell_type": "code",
   "execution_count": 8,
   "metadata": {},
   "outputs": [
    {
     "name": "stdout",
     "output_type": "stream",
     "text": [
      "Best alpha value - 0.175\n"
     ]
    },
    {
     "data": {
      "image/png": "[encoded data removed]",
      "text/plain": [
       "<Figure size 432x288 with 1 Axes>"
      ]
     },
     "metadata": {
      "needs_background": "light"
     },
     "output_type": "display_data"
    }
   ],
   "source": [
    "def eval_model(w, X, y, n_iterations, alpha_):\n",
    "    losses = []\n",
    "    \n",
    "    for i in range(n_iterations):        \n",
    "        loss, grad = calc_logloss(w, X, y)\n",
    "        w = w - alpha_ * grad\n",
    "        losses.append(loss)\n",
    "    return w, losses\n",
    "\n",
    "iterations = 100\n",
    "alpha_arr = np.array([])\n",
    "losses_arr = np.array([])\n",
    "for i in range(101):\n",
    "    alpha_ = 0.05 * i/10\n",
    "    alpha_arr = np.append(alpha_arr, alpha_)\n",
    "    w, losses = eval_model(w0, X_train, y_train, iterations, alpha_)\n",
    "    losses_arr = np.append(losses_arr, np.sum(np.absolute(losses)))\n",
    "\n",
    "alpha_ = alpha_arr[np.argmin(losses_arr)]\n",
    "print(f'Best alpha value - {alpha_}')\n",
    "plt.title('Alpha optimization')\n",
    "plt.xlabel('alpha values')\n",
    "plt.ylabel('loss summ')\n",
    "plt.plot(alpha_arr, losses_arr)\n",
    "plt.grid(True)"
   ]
  },
  {
   "cell_type": "code",
   "execution_count": 9,
   "metadata": {},
   "outputs": [
    {
     "name": "stdout",
     "output_type": "stream",
     "text": [
      "Best number of iterations - 480\n"
     ]
    },
    {
     "data": {
      "image/png": "[encoded data removed]",
      "text/plain": [
       "<Figure size 432x288 with 1 Axes>"
      ]
     },
     "metadata": {
      "needs_background": "light"
     },
     "output_type": "display_data"
    }
   ],
   "source": [
    "iterations_arr = np.array([])\n",
    "#alpha_ = alpha_arr[np.argmin(losses_arr)] #0.175\n",
    "#alpha_ = 0.175\n",
    "losses_arr = np.array([])\n",
    "for i in range(11):\n",
    "    iterations = 430 + 10*i\n",
    "    iterations_arr = np.append(iterations_arr, iterations)\n",
    "    w, losses = eval_model(w0, X_train, y_train, iterations, alpha_)\n",
    "    losses_arr = np.append(losses_arr, losses[-1])\n",
    "    \n",
    "plt.title('Iterations optimization')\n",
    "plt.xlabel('Number of iterations')\n",
    "plt.ylabel('Last loss')\n",
    "plt.plot(iterations_arr, losses_arr)\n",
    "plt.grid(True)\n",
    "n_iterations = round(iterations_arr[np.argmin(losses_arr)])\n",
    "print(f'Best number of iterations - {n_iterations}')"
   ]
  },
  {
   "cell_type": "markdown",
   "metadata": {},
   "source": [
    "### 3. Создайте функцию calc_pred_proba, возвращающую предсказанную вероятность класса 1 (на вход подаются W, который уже посчитан функцией eval_model и X, на выходе - массив y_pred_proba)."
   ]
  },
  {
   "cell_type": "code",
   "execution_count": 10,
   "metadata": {},
   "outputs": [],
   "source": [
    "def calc_pred_proba(X, W):\n",
    "    y_pred_proba = sigmoid(np.dot(W.T,X))\n",
    "    return y_pred_proba\n"
   ]
  },
  {
   "cell_type": "code",
   "execution_count": 11,
   "metadata": {},
   "outputs": [
    {
     "data": {
      "text/plain": [
       "<matplotlib.collections.PathCollection at 0x7fafb2653a90>"
      ]
     },
     "execution_count": 11,
     "metadata": {},
     "output_type": "execute_result"
    },
    {
     "data": {
      "image/png": "[encoded data removed]",
      "text/plain": [
       "<Figure size 432x288 with 1 Axes>"
      ]
     },
     "metadata": {
      "needs_background": "light"
     },
     "output_type": "display_data"
    }
   ],
   "source": [
    "w, losses = eval_model(w0, X_train, y_train, n_iterations, alpha_)\n",
    "plt.title('Train')\n",
    "plt.xlabel('probability')\n",
    "plt.ylabel('y value')\n",
    "plt.scatter(y_train.T, calc_pred_proba(X_train,w).T)"
   ]
  },
  {
   "cell_type": "code",
   "execution_count": 12,
   "metadata": {},
   "outputs": [
    {
     "data": {
      "text/plain": [
       "<matplotlib.collections.PathCollection at 0x7fafb26b5370>"
      ]
     },
     "execution_count": 12,
     "metadata": {},
     "output_type": "execute_result"
    },
    {
     "data": {
      "image/png": "[encoded data removed]",
      "text/plain": [
       "<Figure size 432x288 with 1 Axes>"
      ]
     },
     "metadata": {
      "needs_background": "light"
     },
     "output_type": "display_data"
    }
   ],
   "source": [
    "plt.title('Test')\n",
    "plt.xlabel('probability')\n",
    "plt.ylabel('y value')\n",
    "plt.scatter(y_test.T, calc_pred_proba(X_test,w).T)"
   ]
  },
  {
   "cell_type": "markdown",
   "metadata": {},
   "source": [
    "### 4. Создайте функцию calc_pred, возвращающую предсказанный класс (на вход подаются W, который уже посчитан функцией eval_model и X, на выходе - массив y_pred)."
   ]
  },
  {
   "cell_type": "code",
   "execution_count": 13,
   "metadata": {},
   "outputs": [],
   "source": [
    "def calc_pred(X, W):\n",
    "    X_size = X.shape[1]\n",
    "    y_pred = np.zeros((1, X_size))\n",
    "    W = W.reshape(X.shape[0], 1)\n",
    "    prob = calc_pred_proba(X, w)\n",
    "    for i in range(prob.shape[1]):\n",
    "        if (prob[:,i] > 0.5): \n",
    "            y_pred[:, i] = 1\n",
    "        elif (prob[:,i] <= 0.5):\n",
    "            y_pred[:, i] = 0\n",
    "    return y_pred"
   ]
  },
  {
   "cell_type": "markdown",
   "metadata": {},
   "source": [
    "### 5. Посчитайте Accuracy, матрицу ошибок, точность и полноту, а также F1 score."
   ]
  },
  {
   "cell_type": "code",
   "execution_count": 14,
   "metadata": {},
   "outputs": [],
   "source": [
    "class Metrics:\n",
    "    import numpy as np\n",
    "\n",
    "    def __init__(self, y_real = [], y_pred = []):\n",
    "        self.y_real = np.array(y_real)\n",
    "        self.y_pred = np.array(y_pred)\n",
    "        \n",
    "    def true_positive(self):\n",
    "        if (self.y_real.size > 0) and (self.y_pred.size > 0):\n",
    "            tp = np.sum(self.y_real * self.y_pred)\n",
    "        else:\n",
    "            tp = 0\n",
    "        return tp\n",
    "    \n",
    "    def true_negative(self):\n",
    "        if (self.y_real.size > 0) and (self.y_pred.size > 0):\n",
    "            y_real = self.y_real\n",
    "            y_pred = self.y_pred\n",
    "            tn = np.sum(np.absolute(self.y_real - 1) * np.absolute(self.y_pred - 1))\n",
    "        else:\n",
    "            tn = 0\n",
    "        return tn\n",
    "    \n",
    "    def false_positive(self):\n",
    "        if (self.y_real.size > 0) and (self.y_pred.size > 0):\n",
    "            fp = np.sum(np.absolute(self.y_real - 1) * self.y_pred)\n",
    "        else:\n",
    "            fp = 0\n",
    "        return fp\n",
    "    \n",
    "    def false_negative(self):\n",
    "        if (self.y_real.size > 0) and (self.y_pred.size > 0):\n",
    "            fn = np.sum(self.y_real * np.absolute(self.y_pred - 1))\n",
    "        else:\n",
    "            fn = 0\n",
    "        return fn\n",
    "    \n",
    "    def precision(self):\n",
    "        if (self.y_real.size > 0) and (self.y_pred.size > 0):\n",
    "            prec = self.true_positive()/(self.true_positive() + self.false_positive())\n",
    "        else:\n",
    "            prec = 0\n",
    "        return prec\n",
    "                   \n",
    "    def recall(self):\n",
    "        if (self.y_real.size > 0) and (self.y_pred.size > 0):\n",
    "            acc = self.true_positive()/(self.true_positive() + self.false_negative())\n",
    "        else:\n",
    "            acc = 0\n",
    "        return acc\n",
    "                   \n",
    "    def accuracy(self):\n",
    "        if (self.y_real.size > 0) and (self.y_pred.size > 0):\n",
    "            acc = (self.true_positive() + self.true_negative())/len(self.y_real)\n",
    "        else:\n",
    "            acc = 0\n",
    "        return acc\n",
    "    \n",
    "    def err_matrix(self):\n",
    "        return[[self.true_positive(), self.false_positive()],[self.false_negative(), self.true_negative()]]\n",
    "                   \n",
    "    def f_score(self, betta = 1):\n",
    "        if (self.y_real.size > 0) and (self.y_pred.size > 0):\n",
    "            f = (1 + betta**2)*self.precision()*self.recall()/(betta**2 * self.precision() + self.recall())\n",
    "        else:\n",
    "            f = 0\n",
    "        return f"
   ]
  },
  {
   "cell_type": "code",
   "execution_count": 15,
   "metadata": {},
   "outputs": [
    {
     "name": "stdout",
     "output_type": "stream",
     "text": [
      "Train\n",
      " Accuracy - 0.875,\n",
      " матрица ошибок - [[127.0, 13.0], [22.0, 118.0]],\n",
      " точность - 0.9071428571428571,\n",
      " полнота - 0.8523489932885906, \n",
      "F1 score - 0.8788927335640139\n"
     ]
    }
   ],
   "source": [
    "y_pred = calc_pred(X_train, w)\n",
    "calc_metrics = Metrics(y_train.T, y_pred.T)\n",
    "print(f'Train\\n Accuracy - {calc_metrics.accuracy()},\\n матрица ошибок - {calc_metrics.err_matrix()},\\n точность - {calc_metrics.precision()},\\n полнота - {calc_metrics.recall()}, \\nF1 score - {calc_metrics.f_score()}')"
   ]
  },
  {
   "cell_type": "code",
   "execution_count": 16,
   "metadata": {},
   "outputs": [
    {
     "name": "stdout",
     "output_type": "stream",
     "text": [
      "Test\n",
      " Accuracy - 0.8083333333333333,\n",
      " матрица ошибок - [[43.0, 14.0], [9.0, 54.0]],\n",
      " точность - 0.7543859649122807,\n",
      " полнота - 0.8269230769230769,\n",
      " F1 score - 0.7889908256880734\n"
     ]
    }
   ],
   "source": [
    "y_pred = calc_pred(X_test, w)\n",
    "calc_metrics = Metrics(y_test.T, y_pred.T)\n",
    "print(f'Test\\n Accuracy - {calc_metrics.accuracy()},\\n матрица ошибок - {calc_metrics.err_matrix()},\\n точность - {calc_metrics.precision()},\\n полнота - {calc_metrics.recall()},\\n F1 score - {calc_metrics.f_score()}')"
   ]
  },
  {
   "cell_type": "markdown",
   "metadata": {},
   "source": [
    "### 6. Могла ли модель переобучиться? Почему?"
   ]
  },
  {
   "cell_type": "markdown",
   "metadata": {},
   "source": [
    "Судя по f1 score модель не переобучилась, но могла бы, если бы количество итераций было больше, так как накопились бы ошибки."
   ]
  },
  {
   "cell_type": "markdown",
   "metadata": {},
   "source": [
    "### 7. Создайте функции eval_model_l1 и eval_model_l2 с применением L1 и L2 регуляризаций соответственно.* "
   ]
  }
 ],
 "metadata": {
  "celltoolbar": "Отсутствует",
  "kernelspec": {
   "display_name": "Python 3",
   "language": "python",
   "name": "python3"
  },
  "language_info": {
   "codemirror_mode": {
    "name": "ipython",
    "version": 3
   },
   "file_extension": ".py",
   "mimetype": "text/x-python",
   "name": "python",
   "nbconvert_exporter": "python",
   "pygments_lexer": "ipython3",
   "version": "3.8.5"
  }
 },
 "nbformat": 4,
 "nbformat_minor": 4
}
