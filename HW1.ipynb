{
 "cells": [
  {
   "cell_type": "markdown",
   "metadata": {},
   "source": [
    "## Урок 1. Алгоритм линейной регрессии. Градиентный спуск"
   ]
  },
  {
   "cell_type": "markdown",
   "metadata": {},
   "source": [
    "#### 1. Подберите скорость обучения (alpha) и количество итераций для градиентного спуска.\n",
    "#### 2 (опция). В этом коде мы избавляемся от итераций по весам, но тут есть ошибка, исправьте ее:\n",
    "\n",
    "for i in range(1000):\n",
    "y_pred = np.dot(W, X)\n",
    "err = calc_mse(y, y_pred)\n",
    "'''for ii in range(W.shape[0]):\n",
    "W[ii] -= alpha * (1/n * 2 * np.sum(X[ii] * (y_pred - y)))'''\n",
    "W -= (alpha * (1/n * 2 * np.sum(X * (y_pred - y))))\n",
    "if i % 100 == 0:\n",
    "print(i, W, err)"
   ]
  },
  {
   "cell_type": "code",
   "execution_count": 1,
   "metadata": {
    "colab": {},
    "colab_type": "code",
    "id": "ak8b3KV45kVW"
   },
   "outputs": [],
   "source": [
    "import numpy as np\n",
    "import matplotlib.pyplot as plt"
   ]
  },
  {
   "cell_type": "code",
   "execution_count": 2,
   "metadata": {
    "colab": {},
    "colab_type": "code",
    "id": "JTSC2cFnCd8T"
   },
   "outputs": [],
   "source": [
    "def calc_mse(y, y_pred):\n",
    "    err = np.mean((y - y_pred)**2)\n",
    "    return err"
   ]
  },
  {
   "cell_type": "code",
   "execution_count": 3,
   "metadata": {
    "colab": {},
    "colab_type": "code",
    "id": "BoU7Rm_1DPQq"
   },
   "outputs": [],
   "source": [
    "def calc_mae(y, y_pred):\n",
    "    err = np.mean(np.abs(y - y_pred))\n",
    "    return err"
   ]
  },
  {
   "cell_type": "code",
   "execution_count": 4,
   "metadata": {
    "colab": {},
    "colab_type": "code",
    "id": "VsNrKi1Q6Wmh"
   },
   "outputs": [],
   "source": [
    "y = [45, 55, 50, 59, 65, 35, 75, 80, 50, 60]"
   ]
  },
  {
   "cell_type": "code",
   "execution_count": 5,
   "metadata": {
    "colab": {},
    "colab_type": "code",
    "id": "i77tZbAd5plB"
   },
   "outputs": [],
   "source": [
    "X = np.array([[1, 1, 1, 1, 1, 1, 1, 1, 1, 1],\n",
    "              [1, 1, 2, 1, 3, 0, 5, 10, 1, 2]])"
   ]
  },
  {
   "cell_type": "markdown",
   "metadata": {
    "colab_type": "text",
    "id": "huXrhXQsZTMt"
   },
   "source": [
    "### 1. Подберите скорость обучения (alpha) и количество итераций:"
   ]
  },
  {
   "cell_type": "code",
   "execution_count": 6,
   "metadata": {
    "colab": {
     "base_uri": "https://localhost:8080/",
     "height": 34
    },
    "colab_type": "code",
    "id": "VEXjDozNHdAo",
    "outputId": "7d12bb79-21b7-43fb-fd8e-d116a2af3bb7"
   },
   "outputs": [
    {
     "name": "stdout",
     "output_type": "stream",
     "text": [
      " Weights - [1.  0.5], \n",
      " learning rate - 0.0639, \n",
      " X - [[ 1  1  1  1  1  1  1  1  1  1]\n",
      " [ 1  1  2  1  3  0  5 10  1  2]], \n",
      " Y - [45, 55, 50, 59, 65, 35, 75, 80, 50, 60]\n"
     ]
    }
   ],
   "source": [
    "n = X.shape[1]\n",
    "alpha = 6.39e-2 # 0.1\n",
    "\n",
    "W = np.array([1, 0.5])\n",
    "print(f' Weights - {W}, \\n learning rate - {alpha}, \\n X - {X}, \\n Y - {y}')"
   ]
  },
  {
   "cell_type": "code",
   "execution_count": 7,
   "metadata": {
    "colab": {
     "base_uri": "https://localhost:8080/",
     "height": 185
    },
    "colab_type": "code",
    "id": "IDB22MQKMYaJ",
    "outputId": "4c03219e-a57c-4583-f439-6699fd0619bb"
   },
   "outputs": [
    {
     "name": "stdout",
     "output_type": "stream",
     "text": [
      "0 [ 8.04178 22.226  ] 3173.15\n",
      "10 [27.46108701 12.76625635] 769.7277231196898\n",
      "20 [37.26015448  8.19726668] 214.17593131817085\n",
      "30 [42.2036014   5.98800211] 85.21607402477306\n",
      "40 [44.69691392  4.91853594] 55.149409303088966\n",
      "50 [45.95419473  4.40023485] 48.10787855340086\n",
      "60 [46.58806892  4.1487593 ] 46.45121669452431\n",
      "70 [46.90758671  4.02660472] 46.05965360951217\n",
      "80 [47.06861931  3.9671995 ] 45.966678123278605\n",
      "90 [47.14976479  3.93827674] 45.94450057426517\n",
      "100 [47.19064862  3.92417887] 45.93918684988667\n",
      "110 [47.21124448  3.91729928] 45.93790814379234\n",
      "120 [47.22161864  3.91393831] 45.93759914255951\n",
      "130 [47.22684351  3.9122945 ] 45.93752417266622\n",
      "140 [47.22947469  3.91148964] 45.93750591435635\n",
      "150 [47.23079958  3.91109512] 45.93750145179753\n",
      "160 [47.23146665  3.91090154] 45.937500357450425\n",
      "170 [47.23180248  3.91080645] 45.93750008825362\n",
      "180 [47.23197153  3.91075969] 45.93750002184513\n",
      "190 [47.23205663  3.91073668] 45.937500005419786\n",
      "200 [47.23209946  3.91072534] 45.93750000134748\n",
      "210 [47.23212102  3.91071975] 45.937500000335646\n"
     ]
    }
   ],
   "source": [
    "for i in range(220):\n",
    "    y_pred = np.dot(W, X)\n",
    "    err = calc_mse(y, y_pred)\n",
    "    # print(y_pred, '\\n', err)\n",
    "    for ii in range(W.shape[0]):\n",
    "        W[ii] -= alpha * (1/n * 2 * np.sum(X[ii] * (y_pred - y)))\n",
    "    if i % 10 == 0:\n",
    "        print(i, W, err)"
   ]
  },
  {
   "cell_type": "code",
   "execution_count": 8,
   "metadata": {},
   "outputs": [
    {
     "data": {
      "text/plain": [
       "<matplotlib.legend.Legend at 0x7ff46fbc57f0>"
      ]
     },
     "execution_count": 8,
     "metadata": {},
     "output_type": "execute_result"
    },
    {
     "data": {
      "image/png": "[encoded data removed]",
      "text/plain": [
       "<Figure size 432x288 with 1 Axes>"
      ]
     },
     "metadata": {
      "needs_background": "light"
     },
     "output_type": "display_data"
    }
   ],
   "source": [
    "plt.scatter(X[1,:], y)\n",
    "plt.plot(X[1, :], W[1]*X[1, :] + W[0], label=f'approximately {round(W[1],3)}*x + {round(W[0],3)}')\n",
    "plt.legend()"
   ]
  },
  {
   "cell_type": "markdown",
   "metadata": {
    "colab_type": "text",
    "id": "5Qu1o4JhZYwI"
   },
   "source": [
    "### *2. В этом коде мы избавляемся от итераций по весам, но тут есть ошибка, исправьте ее:"
   ]
  },
  {
   "cell_type": "code",
   "execution_count": 9,
   "metadata": {},
   "outputs": [
    {
     "name": "stdout",
     "output_type": "stream",
     "text": [
      " Weights - [1.  0.5], \n",
      " learning rate - 0.0639, \n",
      " X - [[ 1  1  1  1  1  1  1  1  1  1]\n",
      " [ 1  1  2  1  3  0  5 10  1  2]], \n",
      " Y - [45, 55, 50, 59, 65, 35, 75, 80, 50, 60]\n"
     ]
    }
   ],
   "source": [
    "n = X.shape[1]\n",
    "alpha = 6.39e-2 # 0.1\n",
    "\n",
    "W = np.array([1, 0.5])\n",
    "print(f' Weights - {W}, \\n learning rate - {alpha}, \\n X - {X}, \\n Y - {y}')"
   ]
  },
  {
   "cell_type": "markdown",
   "metadata": {},
   "source": [
    "## Ошибка в использовании numpy.sum - без параметров выдает 1 число, но нужен вектор (axis = 1)"
   ]
  },
  {
   "cell_type": "code",
   "execution_count": 150,
   "metadata": {
    "colab": {
     "base_uri": "https://localhost:8080/",
     "height": 185
    },
    "colab_type": "code",
    "id": "WZZzDCQLY4pA",
    "outputId": "28f58ade-72f2-4381-809d-2417752d56e4"
   },
   "outputs": [
    {
     "name": "stdout",
     "output_type": "stream",
     "text": [
      "0 [47.23214286  3.91071429] 45.93749999999999\n",
      "100 [47.23214286  3.91071429] 45.9375\n",
      "200 [47.23214286  3.91071429] 45.93749999999999\n"
     ]
    }
   ],
   "source": [
    "for i in range(220):\n",
    "    y_pred = np.dot(W, X)\n",
    "    err = calc_mse(y, y_pred)\n",
    "    '''for ii in range(W.shape[0]):\n",
    "    W[ii] -= alpha * (1/n * 2 * np.sum(X[ii] * (y_pred - y)))'''\n",
    "    Wshift = (alpha * (1/n * 2 * np.sum(X * (y_pred - y), axis=1)))\n",
    "    W = W - Wshift\n",
    "    if i % 100 == 0:\n",
    "        print(i, W, err)"
   ]
  }
 ],
 "metadata": {
  "colab": {
   "collapsed_sections": [],
   "name": "Lesson1.ipynb",
   "provenance": []
  },
  "kernelspec": {
   "display_name": "Python 3",
   "language": "python",
   "name": "python3"
  },
  "language_info": {
   "codemirror_mode": {
    "name": "ipython",
    "version": 3
   },
   "file_extension": ".py",
   "mimetype": "text/x-python",
   "name": "python",
   "nbconvert_exporter": "python",
   "pygments_lexer": "ipython3",
   "version": "3.8.5"
  }
 },
 "nbformat": 4,
 "nbformat_minor": 1
}
